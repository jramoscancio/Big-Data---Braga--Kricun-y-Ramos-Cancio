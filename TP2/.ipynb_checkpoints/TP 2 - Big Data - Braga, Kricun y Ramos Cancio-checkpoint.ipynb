{
 "cells": [
  {
   "cell_type": "markdown",
   "id": "2b58c5fc",
   "metadata": {},
   "source": [
    "# Trabajo práctico 2"
   ]
  },
  {
   "cell_type": "markdown",
   "id": "9a64f3e8",
   "metadata": {},
   "source": [
    "## Parte 1: Analizando la base"
   ]
  },
  {
   "cell_type": "markdown",
   "id": "adac1a95",
   "metadata": {},
   "source": [
    "1. Utilizando información disponible en la página del INDEC, expliquen brevemente cómo se identifica a las personas pobres."
   ]
  },
  {
   "cell_type": "markdown",
   "id": "95224860",
   "metadata": {},
   "source": [
    "Se identifica como persona pobre a aquella que forma parte de un hogar que no tiene la capacidad de satisfacer –por medio de la compra de bienes y servicios– un conjunto de necesidades alimentarias y no alimentarias consideradas esenciales. \n",
    "\n",
    "Metodológicamente, primero se calcula una línea de pobreza y luego se contrasta contra ella el ingreso familiar total. Si este último es menor que la línea de pobreza, determinada por la Canasta Básica Total (CBT), entonces todos los integrantes del hogar son identificados como pobres. La CBT se obtiene a partir del cálculo de la Canasta Básica Alimentaria (CBA). El procedimiento para obtener la CBA toma en cuenta los requerimientos normativos kilocalóricos y proteicos del hogar. Dado que los requerimientos son diferentes según la edad, el sexo y otras características, es necesario tomar una unidad de referencia común para poder reflejar estas características. La unidad que se toma es el varón adulto de entre 30 y 60 años. Luego, se compara las características de todas las personas con las de un varón adulto entre las edades mencionadas.\n",
    "\n",
    "Así, se suman los requerimientos calóricos de todos los integrantes del hogar y se establece la CBA para cada hogar. Para obtener la CBT se multiplica la CBA por un coeficiente que relaciona el gasto en alimento y el gasto total de las familias. Finalmente, este CBT es el que se compara con los ingresos totales por hogar."
   ]
  },
  {
   "cell_type": "markdown",
   "id": "be795732",
   "metadata": {},
   "source": [
    "2. Entren a la página https://www.indec.gob.ar/ y vayan a la sección Servicios y Herramientas > Bases de datos. Descarguen la base de microdatos de la Encuesta Permanente de Hogares (EPH) correspondiente al primer trimestre de 2023 en formato xls (una vez descargada, la base a usar debería llamarse usu_individual_T123.xls). En la página web, también encontrará un diccionario de variables con el nombre de \"Diseño de registro y estructura para las bases preliminares (hogares y personas)”; este archivo les indica qué significa cada variable que aparece en la base de datos, en particular, en la sección de Diseño de registros de la base Personas.\n",
    "\n",
    "(a) Eliminen todas las observaciones que no corresponden a los aglomerados de Ciudad Autónoma de Buenos Aires o Gran Buenos Aires."
   ]
  },
  {
   "cell_type": "code",
   "execution_count": 1,
   "id": "db29da54",
   "metadata": {},
   "outputs": [],
   "source": [
    "import pandas as pd\n",
    "\n",
    "# Importamos la base de datos.\n",
    "\n",
    "df_original = pd.read_excel(r'C:\\Users\\julia\\Documents\\UdeSA 2023\\Semestre de primavera\\Big Data\\Trabajos prácticos\\TP 2\\EPH_usu_1er_Trim_2023_xlsx\\usu_individual_T123.xlsx')\n",
    "\n",
    "# Importamos todos los paquetes que vamos a utilizar a lo largo del Trabajo.\n",
    "\n",
    "from datetime import datetime\n",
    "import matplotlib.pyplot as plt\n",
    "import seaborn as sns\n",
    "from sklearn.model_selection import train_test_split\n",
    "import statsmodels.api as sm\n",
    "import numpy as np\n",
    "from sklearn import datasets\n",
    "from sklearn.linear_model import LogisticRegression\n",
    "from sklearn.metrics import confusion_matrix\n",
    "from sklearn.metrics import accuracy_score \n",
    "from sklearn.metrics import roc_curve, roc_auc_score, RocCurveDisplay\n",
    "from sklearn.discriminant_analysis import LinearDiscriminantAnalysis\n",
    "from sklearn.neighbors import KNeighborsClassifier"
   ]
  },
  {
   "cell_type": "code",
   "execution_count": 2,
   "id": "ceefbf47",
   "metadata": {},
   "outputs": [],
   "source": [
    "# Nos quedamos con los datos correspondientes a los aglomerados de Ciudad Autónoma de Buenos Aires y Gran Buenos Aires.\n",
    "\n",
    "df = df_original[(df_original['AGLOMERADO'] == 32) | (df_original['AGLOMERADO'] == 33)]"
   ]
  },
  {
   "cell_type": "markdown",
   "id": "8b8df72b",
   "metadata": {},
   "source": [
    "(b) Si hay observaciones con valores que no tienen sentido, descártenlas (ingresos y edades negativos, por ejemplo)."
   ]
  },
  {
   "cell_type": "markdown",
   "id": "323cb92f",
   "metadata": {},
   "source": [
    "Luego de haber estudiado la base de datos, consideramos como valores erróneos o sin sentido a aquellos que pertenecen a variables de ingresos y edades, y son negativos. Además, notamos que algunas fechas de nacimiento no son las correctas dadas las edades reportadas. En estos casos decidimos proceder eliminando las observaciones con estas fechas de nacimiento erróneas. Estas observaciones fueron simples de identificar debido a que cuando la fecha de nacimiento era errónea, siempre se reportaba la misma fecha: 1/1/1900.\n",
    "\n",
    "En primer lugar, para eliminar todas las observaciones con valores negativos generamos la variable types para observar qué formatos tenían las variables de la base de datos [Primer paso].\n",
    "\n",
    "Luego de observar los 4 formatos que tenemos y la lista de variables con estos formatos, procedimos a borrar las observaciones con valores negativos de las variables numéricas (con formato float64 e int64). Para esto corrimos un loop en que solo mantenemos la observación si los valores de todas las variables numéricas son positivos o missing (es importante notar que puede haber missing y no ser un valor \"sin sentido\") [Segundo paso].\n",
    "\n",
    "Por último, eliminamos las observaciones si la fecha de nacimiento reportada era 1/1/1900 [Tercer paso]."
   ]
  },
  {
   "cell_type": "code",
   "execution_count": 3,
   "id": "8b43e8ad",
   "metadata": {},
   "outputs": [
    {
     "name": "stdout",
     "output_type": "stream",
     "text": [
      "Formatos de las variables: [dtype('O'), dtype('int64'), dtype('float64')]\n",
      "Listado de variables que corregiremos: ['ANO4', 'TRIMESTRE', 'NRO_HOGAR', 'COMPONENTE', 'H15', 'REGION', 'AGLOMERADO', 'PONDERA', 'CH03', 'CH04', 'CH06', 'CH07', 'CH08', 'CH09', 'CH10', 'CH11', 'CH12', 'CH13', 'CH14', 'CH15', 'CH15_COD', 'CH16', 'CH16_COD', 'NIVEL_ED', 'ESTADO', 'CAT_OCUP', 'CAT_INAC', 'IMPUTA', 'PP02C1', 'PP02C2', 'PP02C3', 'PP02C4', 'PP02C5', 'PP02C6', 'PP02C7', 'PP02C8', 'PP02E', 'PP02H', 'PP02I', 'PP03C', 'PP03D', 'PP3E_TOT', 'PP3F_TOT', 'PP03G', 'PP03H', 'PP03I', 'PP03J', 'INTENSI', 'PP04A', 'PP04B_COD', 'PP04B1', 'PP04B2', 'PP04B3_MES', 'PP04B3_ANO', 'PP04B3_DIA', 'PP04C', 'PP04C99', 'PP04D_COD', 'PP04G', 'PP05B2_MES', 'PP05B2_ANO', 'PP05B2_DIA', 'PP05C_1', 'PP05C_2', 'PP05C_3', 'PP05E', 'PP05F', 'PP05H', 'PP06A', 'PP06C', 'PP06D', 'PP06E', 'PP06H', 'PP07A', 'PP07C', 'PP07D', 'PP07E', 'PP07F1', 'PP07F2', 'PP07F3', 'PP07F4', 'PP07F5', 'PP07G1', 'PP07G2', 'PP07G3', 'PP07G4', 'PP07G_59', 'PP07H', 'PP07I', 'PP07J', 'PP07K', 'PP08D1', 'PP08D4', 'PP08F1', 'PP08F2', 'PP08J1', 'PP08J2', 'PP08J3', 'PP09A', 'PP09B', 'PP09C', 'PP10A', 'PP10C', 'PP10D', 'PP10E', 'PP11A', 'PP11B_COD', 'PP11B1', 'PP11B2_MES', 'PP11B2_ANO', 'PP11B2_DIA', 'PP11C', 'PP11C99', 'PP11D_COD', 'PP11G_ANO', 'PP11G_MES', 'PP11G_DIA', 'PP11L', 'PP11L1', 'PP11M', 'PP11N', 'PP11O', 'PP11P', 'PP11Q', 'PP11R', 'PP11S', 'PP11T', 'P21', 'DECOCUR', 'IDECOCUR', 'RDECOCUR', 'GDECOCUR', 'PDECOCUR', 'ADECOCUR', 'PONDIIO', 'TOT_P12', 'P47T', 'DECINDR', 'IDECINDR', 'RDECINDR', 'GDECINDR', 'PDECINDR', 'ADECINDR', 'PONDII', 'V2_M', 'V3_M', 'V4_M', 'V5_M', 'V8_M', 'V9_M', 'V10_M', 'V11_M', 'V12_M', 'V18_M', 'V19_AM', 'V21_M', 'T_VI', 'ITF', 'DECIFR', 'IDECIFR', 'RDECIFR', 'GDECIFR', 'PDECIFR', 'ADECIFR', 'IPCF', 'DECCFR', 'IDECCFR', 'RDECCFR', 'GDECCFR', 'PDECCFR', 'ADECCFR', 'PONDIH']\n",
      "\n",
      "Shape de la base de CABA y GBA:  (7619, 177)\n",
      "\n",
      "Shape de la base:  (5944, 177)\n",
      "\n",
      "Shape de la base corregida de CABA y GBA:  (5402, 177)\n"
     ]
    },
    {
     "data": {
      "text/html": [
       "<div>\n",
       "<style scoped>\n",
       "    .dataframe tbody tr th:only-of-type {\n",
       "        vertical-align: middle;\n",
       "    }\n",
       "\n",
       "    .dataframe tbody tr th {\n",
       "        vertical-align: top;\n",
       "    }\n",
       "\n",
       "    .dataframe thead th {\n",
       "        text-align: right;\n",
       "    }\n",
       "</style>\n",
       "<table border=\"1\" class=\"dataframe\">\n",
       "  <thead>\n",
       "    <tr style=\"text-align: right;\">\n",
       "      <th></th>\n",
       "      <th>CODUSU</th>\n",
       "      <th>ANO4</th>\n",
       "      <th>TRIMESTRE</th>\n",
       "      <th>NRO_HOGAR</th>\n",
       "      <th>COMPONENTE</th>\n",
       "      <th>H15</th>\n",
       "      <th>REGION</th>\n",
       "      <th>MAS_500</th>\n",
       "      <th>AGLOMERADO</th>\n",
       "      <th>PONDERA</th>\n",
       "      <th>...</th>\n",
       "      <th>PDECIFR</th>\n",
       "      <th>ADECIFR</th>\n",
       "      <th>IPCF</th>\n",
       "      <th>DECCFR</th>\n",
       "      <th>IDECCFR</th>\n",
       "      <th>RDECCFR</th>\n",
       "      <th>GDECCFR</th>\n",
       "      <th>PDECCFR</th>\n",
       "      <th>ADECCFR</th>\n",
       "      <th>PONDIH</th>\n",
       "    </tr>\n",
       "  </thead>\n",
       "  <tbody>\n",
       "    <tr>\n",
       "      <th>0</th>\n",
       "      <td>TQRMNORUYHLMSMCDEIJAH00719364</td>\n",
       "      <td>2023</td>\n",
       "      <td>1</td>\n",
       "      <td>1</td>\n",
       "      <td>1</td>\n",
       "      <td>1</td>\n",
       "      <td>1</td>\n",
       "      <td>S</td>\n",
       "      <td>33</td>\n",
       "      <td>1545</td>\n",
       "      <td>...</td>\n",
       "      <td>NaN</td>\n",
       "      <td>4</td>\n",
       "      <td>67500.00</td>\n",
       "      <td>5</td>\n",
       "      <td>NaN</td>\n",
       "      <td>5</td>\n",
       "      <td>5.0</td>\n",
       "      <td>NaN</td>\n",
       "      <td>6</td>\n",
       "      <td>2540</td>\n",
       "    </tr>\n",
       "    <tr>\n",
       "      <th>1</th>\n",
       "      <td>TQRMNORUYHLMSMCDEIJAH00719364</td>\n",
       "      <td>2023</td>\n",
       "      <td>1</td>\n",
       "      <td>1</td>\n",
       "      <td>2</td>\n",
       "      <td>1</td>\n",
       "      <td>1</td>\n",
       "      <td>S</td>\n",
       "      <td>33</td>\n",
       "      <td>1545</td>\n",
       "      <td>...</td>\n",
       "      <td>NaN</td>\n",
       "      <td>4</td>\n",
       "      <td>67500.00</td>\n",
       "      <td>5</td>\n",
       "      <td>NaN</td>\n",
       "      <td>5</td>\n",
       "      <td>5.0</td>\n",
       "      <td>NaN</td>\n",
       "      <td>6</td>\n",
       "      <td>2540</td>\n",
       "    </tr>\n",
       "    <tr>\n",
       "      <th>2</th>\n",
       "      <td>TQRMNOSRQHJNSOCDEIJAH00802640</td>\n",
       "      <td>2023</td>\n",
       "      <td>1</td>\n",
       "      <td>1</td>\n",
       "      <td>1</td>\n",
       "      <td>1</td>\n",
       "      <td>1</td>\n",
       "      <td>S</td>\n",
       "      <td>33</td>\n",
       "      <td>8423</td>\n",
       "      <td>...</td>\n",
       "      <td>NaN</td>\n",
       "      <td>2</td>\n",
       "      <td>23333.33</td>\n",
       "      <td>1</td>\n",
       "      <td>NaN</td>\n",
       "      <td>1</td>\n",
       "      <td>1.0</td>\n",
       "      <td>NaN</td>\n",
       "      <td>1</td>\n",
       "      <td>14082</td>\n",
       "    </tr>\n",
       "    <tr>\n",
       "      <th>3</th>\n",
       "      <td>TQRMNOSRQHJNSOCDEIJAH00802640</td>\n",
       "      <td>2023</td>\n",
       "      <td>1</td>\n",
       "      <td>1</td>\n",
       "      <td>2</td>\n",
       "      <td>1</td>\n",
       "      <td>1</td>\n",
       "      <td>S</td>\n",
       "      <td>33</td>\n",
       "      <td>8423</td>\n",
       "      <td>...</td>\n",
       "      <td>NaN</td>\n",
       "      <td>2</td>\n",
       "      <td>23333.33</td>\n",
       "      <td>1</td>\n",
       "      <td>NaN</td>\n",
       "      <td>1</td>\n",
       "      <td>1.0</td>\n",
       "      <td>NaN</td>\n",
       "      <td>1</td>\n",
       "      <td>14082</td>\n",
       "    </tr>\n",
       "    <tr>\n",
       "      <th>4</th>\n",
       "      <td>TQRMNOSRQHJNSOCDEIJAH00802640</td>\n",
       "      <td>2023</td>\n",
       "      <td>1</td>\n",
       "      <td>1</td>\n",
       "      <td>3</td>\n",
       "      <td>0</td>\n",
       "      <td>1</td>\n",
       "      <td>S</td>\n",
       "      <td>33</td>\n",
       "      <td>8423</td>\n",
       "      <td>...</td>\n",
       "      <td>NaN</td>\n",
       "      <td>2</td>\n",
       "      <td>23333.33</td>\n",
       "      <td>1</td>\n",
       "      <td>NaN</td>\n",
       "      <td>1</td>\n",
       "      <td>1.0</td>\n",
       "      <td>NaN</td>\n",
       "      <td>1</td>\n",
       "      <td>14082</td>\n",
       "    </tr>\n",
       "    <tr>\n",
       "      <th>...</th>\n",
       "      <td>...</td>\n",
       "      <td>...</td>\n",
       "      <td>...</td>\n",
       "      <td>...</td>\n",
       "      <td>...</td>\n",
       "      <td>...</td>\n",
       "      <td>...</td>\n",
       "      <td>...</td>\n",
       "      <td>...</td>\n",
       "      <td>...</td>\n",
       "      <td>...</td>\n",
       "      <td>...</td>\n",
       "      <td>...</td>\n",
       "      <td>...</td>\n",
       "      <td>...</td>\n",
       "      <td>...</td>\n",
       "      <td>...</td>\n",
       "      <td>...</td>\n",
       "      <td>...</td>\n",
       "      <td>...</td>\n",
       "      <td>...</td>\n",
       "    </tr>\n",
       "    <tr>\n",
       "      <th>5397</th>\n",
       "      <td>TQRMNOPVVHKLRQCDEIJAH00780546</td>\n",
       "      <td>2023</td>\n",
       "      <td>1</td>\n",
       "      <td>1</td>\n",
       "      <td>2</td>\n",
       "      <td>1</td>\n",
       "      <td>1</td>\n",
       "      <td>S</td>\n",
       "      <td>33</td>\n",
       "      <td>1236</td>\n",
       "      <td>...</td>\n",
       "      <td>NaN</td>\n",
       "      <td>10</td>\n",
       "      <td>160000.00</td>\n",
       "      <td>9</td>\n",
       "      <td>NaN</td>\n",
       "      <td>9</td>\n",
       "      <td>9.0</td>\n",
       "      <td>NaN</td>\n",
       "      <td>9</td>\n",
       "      <td>2295</td>\n",
       "    </tr>\n",
       "    <tr>\n",
       "      <th>5398</th>\n",
       "      <td>TQRMNOPVVHKLRQCDEIJAH00780546</td>\n",
       "      <td>2023</td>\n",
       "      <td>1</td>\n",
       "      <td>1</td>\n",
       "      <td>3</td>\n",
       "      <td>0</td>\n",
       "      <td>1</td>\n",
       "      <td>S</td>\n",
       "      <td>33</td>\n",
       "      <td>1236</td>\n",
       "      <td>...</td>\n",
       "      <td>NaN</td>\n",
       "      <td>10</td>\n",
       "      <td>160000.00</td>\n",
       "      <td>9</td>\n",
       "      <td>NaN</td>\n",
       "      <td>9</td>\n",
       "      <td>9.0</td>\n",
       "      <td>NaN</td>\n",
       "      <td>9</td>\n",
       "      <td>2295</td>\n",
       "    </tr>\n",
       "    <tr>\n",
       "      <th>5399</th>\n",
       "      <td>TQRMNOQPTHKKRRCDEIJAH00780327</td>\n",
       "      <td>2023</td>\n",
       "      <td>1</td>\n",
       "      <td>1</td>\n",
       "      <td>1</td>\n",
       "      <td>1</td>\n",
       "      <td>1</td>\n",
       "      <td>S</td>\n",
       "      <td>33</td>\n",
       "      <td>1300</td>\n",
       "      <td>...</td>\n",
       "      <td>NaN</td>\n",
       "      <td>8</td>\n",
       "      <td>254000.00</td>\n",
       "      <td>10</td>\n",
       "      <td>NaN</td>\n",
       "      <td>10</td>\n",
       "      <td>10.0</td>\n",
       "      <td>NaN</td>\n",
       "      <td>10</td>\n",
       "      <td>1516</td>\n",
       "    </tr>\n",
       "    <tr>\n",
       "      <th>5400</th>\n",
       "      <td>TQRMNOPTXHKORSCDEIJAH00780269</td>\n",
       "      <td>2023</td>\n",
       "      <td>1</td>\n",
       "      <td>1</td>\n",
       "      <td>1</td>\n",
       "      <td>1</td>\n",
       "      <td>1</td>\n",
       "      <td>S</td>\n",
       "      <td>33</td>\n",
       "      <td>1193</td>\n",
       "      <td>...</td>\n",
       "      <td>NaN</td>\n",
       "      <td>12</td>\n",
       "      <td>0.00</td>\n",
       "      <td>12</td>\n",
       "      <td>NaN</td>\n",
       "      <td>12</td>\n",
       "      <td>12.0</td>\n",
       "      <td>NaN</td>\n",
       "      <td>12</td>\n",
       "      <td>0</td>\n",
       "    </tr>\n",
       "    <tr>\n",
       "      <th>5401</th>\n",
       "      <td>TQRMNOPTXHKORSCDEIJAH00780269</td>\n",
       "      <td>2023</td>\n",
       "      <td>1</td>\n",
       "      <td>1</td>\n",
       "      <td>2</td>\n",
       "      <td>1</td>\n",
       "      <td>1</td>\n",
       "      <td>S</td>\n",
       "      <td>33</td>\n",
       "      <td>1193</td>\n",
       "      <td>...</td>\n",
       "      <td>NaN</td>\n",
       "      <td>12</td>\n",
       "      <td>0.00</td>\n",
       "      <td>12</td>\n",
       "      <td>NaN</td>\n",
       "      <td>12</td>\n",
       "      <td>12.0</td>\n",
       "      <td>NaN</td>\n",
       "      <td>12</td>\n",
       "      <td>0</td>\n",
       "    </tr>\n",
       "  </tbody>\n",
       "</table>\n",
       "<p>5402 rows × 177 columns</p>\n",
       "</div>"
      ],
      "text/plain": [
       "                             CODUSU  ANO4  TRIMESTRE  NRO_HOGAR  COMPONENTE  \\\n",
       "0     TQRMNORUYHLMSMCDEIJAH00719364  2023          1          1           1   \n",
       "1     TQRMNORUYHLMSMCDEIJAH00719364  2023          1          1           2   \n",
       "2     TQRMNOSRQHJNSOCDEIJAH00802640  2023          1          1           1   \n",
       "3     TQRMNOSRQHJNSOCDEIJAH00802640  2023          1          1           2   \n",
       "4     TQRMNOSRQHJNSOCDEIJAH00802640  2023          1          1           3   \n",
       "...                             ...   ...        ...        ...         ...   \n",
       "5397  TQRMNOPVVHKLRQCDEIJAH00780546  2023          1          1           2   \n",
       "5398  TQRMNOPVVHKLRQCDEIJAH00780546  2023          1          1           3   \n",
       "5399  TQRMNOQPTHKKRRCDEIJAH00780327  2023          1          1           1   \n",
       "5400  TQRMNOPTXHKORSCDEIJAH00780269  2023          1          1           1   \n",
       "5401  TQRMNOPTXHKORSCDEIJAH00780269  2023          1          1           2   \n",
       "\n",
       "      H15  REGION MAS_500  AGLOMERADO  PONDERA  ...  PDECIFR  ADECIFR  \\\n",
       "0       1       1       S          33     1545  ...      NaN        4   \n",
       "1       1       1       S          33     1545  ...      NaN        4   \n",
       "2       1       1       S          33     8423  ...      NaN        2   \n",
       "3       1       1       S          33     8423  ...      NaN        2   \n",
       "4       0       1       S          33     8423  ...      NaN        2   \n",
       "...   ...     ...     ...         ...      ...  ...      ...      ...   \n",
       "5397    1       1       S          33     1236  ...      NaN       10   \n",
       "5398    0       1       S          33     1236  ...      NaN       10   \n",
       "5399    1       1       S          33     1300  ...      NaN        8   \n",
       "5400    1       1       S          33     1193  ...      NaN       12   \n",
       "5401    1       1       S          33     1193  ...      NaN       12   \n",
       "\n",
       "           IPCF  DECCFR  IDECCFR  RDECCFR  GDECCFR  PDECCFR  ADECCFR  PONDIH  \n",
       "0      67500.00       5      NaN        5      5.0      NaN        6    2540  \n",
       "1      67500.00       5      NaN        5      5.0      NaN        6    2540  \n",
       "2      23333.33       1      NaN        1      1.0      NaN        1   14082  \n",
       "3      23333.33       1      NaN        1      1.0      NaN        1   14082  \n",
       "4      23333.33       1      NaN        1      1.0      NaN        1   14082  \n",
       "...         ...     ...      ...      ...      ...      ...      ...     ...  \n",
       "5397  160000.00       9      NaN        9      9.0      NaN        9    2295  \n",
       "5398  160000.00       9      NaN        9      9.0      NaN        9    2295  \n",
       "5399  254000.00      10      NaN       10     10.0      NaN       10    1516  \n",
       "5400       0.00      12      NaN       12     12.0      NaN       12       0  \n",
       "5401       0.00      12      NaN       12     12.0      NaN       12       0  \n",
       "\n",
       "[5402 rows x 177 columns]"
      ]
     },
     "execution_count": 3,
     "metadata": {},
     "output_type": "execute_result"
    }
   ],
   "source": [
    "# Primer paso:\n",
    "\n",
    "types = []\n",
    "\n",
    "for columna in df.columns:\n",
    "    if df[columna].dtypes not in types:\n",
    "        types.append(df[columna].dtypes)\n",
    "        \n",
    "print('Formatos de las variables:', types)\n",
    "\n",
    "nums = ['float64','int64']\n",
    "listado = []\n",
    "\n",
    "for columna in df.columns:\n",
    "    if df[columna].dtypes in nums:\n",
    "        listado.append(columna)\n",
    "\n",
    "print('Listado de variables que corregiremos:', listado)\n",
    "\n",
    "# Segundo paso:\n",
    "\n",
    "print('\\nShape de la base de CABA y GBA: ', df.shape)\n",
    "\n",
    "for i in listado:\n",
    "    df = df[((df[[i]] >= 0) | (df[[i]].isna())).all(1)]\n",
    "    \n",
    "print('\\nShape de la base: ', df.shape)\n",
    "\n",
    "# Tercer paso:\n",
    "\n",
    "date = datetime(1900, 1, 1)\n",
    "df = df[df['CH05']!=date]\n",
    "\n",
    "df.index = range(len(df))\n",
    "\n",
    "print('\\nShape de la base corregida de CABA y GBA: ', df.shape)\n",
    "\n",
    "df"
   ]
  },
  {
   "cell_type": "markdown",
   "id": "9388ab92",
   "metadata": {},
   "source": [
    "(c) Una vez hecha esa limpieza, realicen un gráfico de barras mostrando la\n",
    "composición por sexo."
   ]
  },
  {
   "cell_type": "code",
   "execution_count": 1014,
   "id": "646da055",
   "metadata": {
    "collapsed": true
   },
   "outputs": [
    {
     "name": "stdout",
     "output_type": "stream",
     "text": [
      "Cantidad de hombres en la muestra: 2538.\n",
      "Cantidad de mujeres en la muestra: 2864.\n"
     ]
    },
    {
     "data": {
      "image/png": "[encoded data removed]",
      "text/plain": [
       "<Figure size 1000x500 with 1 Axes>"
      ]
     },
     "metadata": {},
     "output_type": "display_data"
    }
   ],
   "source": [
    "male = (df['CH04'] == 1).sum()\n",
    "female = (df['CH04'] == 2).sum()\n",
    "\n",
    "print('Cantidad de hombres en la muestra: ' + str(male) + '.')\n",
    "print('Cantidad de mujeres en la muestra: ' + str(female) + '.')\n",
    "    \n",
    "data = {'Hombre': male, 'Mujer': female}\n",
    "\n",
    "gender = list(data.keys())\n",
    "values = list(data.values())\n",
    "\n",
    "fig = plt.figure(figsize = (10, 5))\n",
    " \n",
    "# creating the bar plot\n",
    "plt.bar(gender, values, color ='lightgreen', \n",
    "        width = 0.4)\n",
    " \n",
    "plt.xlabel(\"Sexo\")\n",
    "plt.ylabel(\"Cantidad de individuos\")\n",
    "plt.title(\"Composición por sexo de la encuesta para CABA y GBA\")\n",
    "plt.show()"
   ]
  },
  {
   "cell_type": "markdown",
   "id": "1eb9cf70",
   "metadata": {},
   "source": [
    "(d) Realicen una matriz de correlación con las siguientes variables: CH04,\n",
    "CH07, CH08, NIVEL ED, ESTADO, CAT INAC, IPCF. Comenten los resultados."
   ]
  },
  {
   "cell_type": "code",
   "execution_count": 1015,
   "id": "0e876e4d",
   "metadata": {
    "collapsed": true
   },
   "outputs": [
    {
     "data": {
      "image/png": "[encoded data removed]",
      "text/plain": [
       "<Figure size 640x480 with 2 Axes>"
      ]
     },
     "metadata": {},
     "output_type": "display_data"
    }
   ],
   "source": [
    "corr = df[['CH04', 'CH07', 'CH08', 'NIVEL_ED', 'ESTADO', 'CAT_INAC', 'IPCF']].corr()\n",
    "corr = corr.round(2)\n",
    "ax = sns.heatmap(    corr, \n",
    "    vmin=-1, vmax=1, center=0, annot=True,\n",
    "    cmap=sns.diverging_palette(20, 220, n=200),\n",
    "    square=True\n",
    ")\n",
    "ax.set_xticklabels(\n",
    "    ax.get_xticklabels(),\n",
    "    rotation=45,\n",
    "    horizontalalignment='right'\n",
    ");"
   ]
  },
  {
   "cell_type": "markdown",
   "id": "a097a3e2",
   "metadata": {},
   "source": [
    "Luego de correr la matriz de correlaciones entre las variables especificadas, es posible observar una alta correlación positiva (0.81) entre \"ESTADO\" y \"CAT_INAC\". Ambas son variables categóricas. Sin embargo, no es posible afirmar mucho más sobre esta correlación debido a que los valores que toma la variable \"CAT_INAC\" no siguen un orden particular. Es decir, si observáramos una correlación positiva entre nivel educativo y nivel de ingresos, sí podríamos decir algo si el nivel educativo sigue un orden ascendente (el nivel educativo alcanzado es mayor cuanto mayor es el valor que se le asigna en la variable categórica). No obstante, esto no ocurre en este caso. \"CAT_INAC\" no sigue un orden particular.\n",
    "\n",
    "Existe una correlación positiva (0.45) también entre la variable \"ESTADO\" y \"CH07\" (estado civil). Aquí sí se podría dar alguna intuición debido a que ambas variables categóricas siguen un orden. En \"CH07\" los valores más chicos (1 y 2) reflejan el estado civil unido y casado, mientras que los más altos (3, 4 y 5) son asignados a las personas separadas/divorciadas, viudas y solteras. En \"ESTADO\" el valor de 1 indica el estado laboral ocupado, mientras que valores más altos (2, 3 y 4) reflejan los estados desocupado, inactivo y menor de 10 años. Por lo tanto, esta correlación positiva podría estar diciéndonos algo sobre la relación entre la ocupación y el estado civil de las personas.\n",
    "\n",
    "Por último, otra de las correlaciones notorias que vemos (0.44) es entre \"CAT_INAC\" y \"CH07\". Sin embargo, tal como señalamos previamentes, \"CAT_INAC\" no sigue un orden particular, por lo que no nos parece claro que esta correlación pueda estar indicándonos algo."
   ]
  },
  {
   "cell_type": "markdown",
   "id": "e89e1ecf",
   "metadata": {},
   "source": [
    "(e) ¿Cuántos desocupados hay en la muestra? ¿Cuántos inactivos? ¿Cuál es\n",
    "la media de ingreso per cápita familiar (IPCF) según estado (ocupado,\n",
    "desocupado, inactivo)?"
   ]
  },
  {
   "cell_type": "code",
   "execution_count": 1016,
   "id": "f085e3c3",
   "metadata": {},
   "outputs": [
    {
     "name": "stdout",
     "output_type": "stream",
     "text": [
      "Hay 235 desocupados en la muestra\n",
      "Hay 2264 inactivos en la muestra\n",
      "\n",
      "Media del ingreso per cápita familiar (IPCF): 63672.60\n",
      "Media del ingreso per cápita familiar (IPCF) de ocupados: 95591.90\n",
      "Media del ingreso per cápita familiar (IPCF) de desocupados: 28336.22\n",
      "Media del ingreso per cápita familiar (IPCF) de inactivos: 47349.46\n"
     ]
    }
   ],
   "source": [
    "print(f\"Hay {len(df[df['ESTADO'] == 2])} desocupados en la muestra.\")\n",
    "print(f\"Hay {len(df[df['ESTADO'] == 3])} inactivos en la muestra.\")\n",
    "\n",
    "print('\\nMedia del ingreso per cápita familiar (IPCF): %.2f' %np.mean(df['IPCF']))\n",
    "print('Media del ingreso per cápita familiar (IPCF) de ocupados: %.2f' %np.mean(df[df['ESTADO'] == 1]['IPCF']))\n",
    "print('Media del ingreso per cápita familiar (IPCF) de desocupados: %.2f' %np.mean(df[df['ESTADO'] == 2]['IPCF']))\n",
    "print('Media del ingreso per cápita familiar (IPCF) de inactivos: %.2f' %np.mean(df[df['ESTADO'] == 3]['IPCF']))"
   ]
  },
  {
   "cell_type": "markdown",
   "id": "3c268e8e",
   "metadata": {},
   "source": [
    "(f) Utilizando el archivo tabla_adulto_equiv.xlsx, agreguen a su base de\n",
    "datos una columna llamada adulto_equiv que contenga los valores de\n",
    "adulto equivalente de cada persona según su sexo y edad (por ejemplo,\n",
    "a un varón de 2 años le corresponde 0.46). Finalmente, con el comando\n",
    "groupby sumen esta nueva columna para las personas que pertenecen a un\n",
    "mismo hogar y guarden ese dato en una columna llamada ad_equiv_hogar."
   ]
  },
  {
   "cell_type": "markdown",
   "id": "0e98ae92",
   "metadata": {},
   "source": [
    "Generamos dos listas con los valores de adulto equivalente de cada personas según su sexo y edad."
   ]
  },
  {
   "cell_type": "code",
   "execution_count": 4,
   "id": "707923a3",
   "metadata": {},
   "outputs": [],
   "source": [
    "valores_m = [.35,.37,.46,.51,.55,.6,.64,.66,.68,.69,.7,.72,.74,.76,.76,.77,.77,.77,.76,.77,.76,.67,.63]\n",
    "valores_h = [.35,.37,.46,.51,.55,.6,.64,.66,.68,.69,.79,.82,.85,.9,.96,1,1.03,1.04,1.02,1,1,.83,.74]\n",
    "df['adulto_equiv'] = 0"
   ]
  },
  {
   "cell_type": "markdown",
   "id": "cfac93d8",
   "metadata": {},
   "source": [
    "A través de un loop y una serie de condicionales imputamos los valores de adulto equivalente para todos los individuos del Data Frame."
   ]
  },
  {
   "cell_type": "code",
   "execution_count": null,
   "id": "77e27dc9",
   "metadata": {},
   "outputs": [],
   "source": [
    "modified_rows = []\n",
    "\n",
    "for j in range(0, 5402, 1):\n",
    "    row = df.iloc[j].copy()\n",
    "    if row['CH04'] == 1:\n",
    "        for i in range(0, 18):\n",
    "            if row['CH06'] == i:\n",
    "                row['adulto_equiv'] = valores_m[i]\n",
    "        if row['CH06'] in range(18,30):\n",
    "            row['adulto_equiv'] = valores_m[18]\n",
    "        elif row['CH06'] in range(30,46):\n",
    "            row['adulto_equiv'] = valores_m[19]\n",
    "        elif row['CH06'] in range(46,61):\n",
    "            row['adulto_equiv'] = valores_m[20]\n",
    "        elif row['CH06'] in range(61,76):\n",
    "            row['adulto_equiv'] = valores_m[21]\n",
    "        elif row['CH06'] in range(76,99):\n",
    "            row['adulto_equiv'] = valores_m[22]\n",
    "    \n",
    "    else:\n",
    "        for i in range(0,18,1):\n",
    "            if row['CH06'] == i:\n",
    "                row['adulto_equiv'] = valores_h[i]\n",
    "        if row['CH06'] in range(18,30):\n",
    "            row['adulto_equiv'] = valores_h[18]\n",
    "        elif row['CH06'] in range(30,46):\n",
    "            row['adulto_equiv'] = valores_h[19]\n",
    "        elif row['CH06'] in range(46,61):\n",
    "            row['adulto_equiv'] = valores_h[20]\n",
    "        elif row['CH06'] in range(61,76):\n",
    "            row['adulto_equiv'] = valores_h[21]\n",
    "        elif row['CH06'] in range(76,100):\n",
    "            row['adulto_equiv'] = valores_h[22]\n",
    "    modified_rows.append(row)\n",
    "\n",
    "df = pd.DataFrame(modified_rows)\n",
    "df"
   ]
  },
  {
   "cell_type": "markdown",
   "id": "0bf9eb6e",
   "metadata": {},
   "source": [
    "Si nada es impreso en el cuadro de siguiente código, entonces todas las observaciones tienen una equivalencia de necesidades energéticas (adultos equivalentes)."
   ]
  },
  {
   "cell_type": "code",
   "execution_count": null,
   "id": "3409aea4",
   "metadata": {},
   "outputs": [],
   "source": [
    "for j in range(0, 5402, 1):\n",
    "    if df.iloc[j]['adulto_equiv'] == 0:\n",
    "        print('Existe un error en la fila ' + str(j) + ' de la nueva variable adultoequiv.')"
   ]
  },
  {
   "cell_type": "markdown",
   "id": "413e7252",
   "metadata": {},
   "source": [
    "Agrupamos las unidades de equivalencia por hogar."
   ]
  },
  {
   "cell_type": "code",
   "execution_count": null,
   "id": "f2c6953c",
   "metadata": {},
   "outputs": [],
   "source": [
    "df['ad_equiv_hogar'] = df.groupby('CODUSU')['adulto_equiv'].transform('sum')\n",
    "df"
   ]
  },
  {
   "cell_type": "markdown",
   "id": "945914c3",
   "metadata": {},
   "source": [
    "3. Uno de los grandes problemas de la EPH es la creciente cantidad de hogares\n",
    "que no reportan sus ingresos (ver por ejemplo el siguiente informe). ¿Cuántas\n",
    "personas no respondieron cuál es su ingreso total familiar (ITF)? Guarden como\n",
    "una base distinta llamada respondieron las observaciones donde respondieron\n",
    "la pregunta sobre su ITF. Las observaciones con ITF = 0 guárdenlas en una\n",
    "base bajo el nombre norespondieron."
   ]
  },
  {
   "cell_type": "code",
   "execution_count": null,
   "id": "f57db586",
   "metadata": {
    "scrolled": true
   },
   "outputs": [],
   "source": [
    "respondieron = df[df['ITF'] != 0].copy()\n",
    "norespondieron = df[df['ITF'] == 0].copy()\n",
    "\n",
    "print(df.shape)\n",
    "print(respondieron.shape)\n",
    "print(norespondieron.shape)\n",
    "print('\\n%.0f personas no respondieron cuál es su ingreso familiar total (ITF).' %len(norespondieron))"
   ]
  },
  {
   "cell_type": "markdown",
   "id": "43e030eb",
   "metadata": {},
   "source": [
    "4. Sabiendo que la Canasta Básica Total para un adulto equivalente en el Gran\n",
    "Buenos Aires en el primer trimestre de 2023 es aproximadamente $57.371, 05,\n",
    "agreguen a la base respondieron una columna llamada ingreso_necesario\n",
    "que sea el producto de este valor por ad_equiv_hogar. Note que este es el valor\n",
    "mínimo que necesita ese hogar para no ser pobre."
   ]
  },
  {
   "cell_type": "code",
   "execution_count": null,
   "id": "be4737c3",
   "metadata": {},
   "outputs": [],
   "source": [
    "respondieron['ingreso_necesario'] = respondieron['ad_equiv_hogar']*57371.05"
   ]
  },
  {
   "cell_type": "markdown",
   "id": "5f2f0d1e",
   "metadata": {},
   "source": [
    "5. Por último, agreguen a respondieron una columna llamada pobre que tome\n",
    "valor 1 si el ITF es menor al ingreso necesario que necesita esa familia, y 0\n",
    "en caso contrario. ¿Cuántos pobres identificaron?"
   ]
  },
  {
   "cell_type": "code",
   "execution_count": null,
   "id": "ba7fb5fd",
   "metadata": {},
   "outputs": [],
   "source": [
    "respondieron['pobre'] = (respondieron['ITF'] < respondieron['ingreso_necesario']).astype(int)\n",
    "\n",
    "print(\"Identificamos %.0f pobres.\" %np.sum(respondieron['pobre']))\n",
    "print(\"Esto equivale a un %.2f por ciento de pobres de la base respondieron.\" %((np.sum(respondieron['pobre']/len(respondieron)))*100))"
   ]
  },
  {
   "cell_type": "markdown",
   "id": "cb806a6e",
   "metadata": {},
   "source": [
    "## Parte 2: Clasificación"
   ]
  },
  {
   "cell_type": "markdown",
   "id": "50e31e37",
   "metadata": {},
   "source": [
    "El objetivo de esta parte del trabajo es intentar predecir si una persona es o no pobre\n",
    "utilizando datos distintos al ingreso, dado que muchos hogares son reacios a responder\n",
    "cuánto ganan.\n",
    "\n",
    "1. Eliminen de ambas bases todas las variables relacionadas a ingresos (en el\n",
    "archivo codigos eph.pdf ver las categorías: ingresos de la ocupación principal de los asalariados, ingresos de la ocupación principal, ingresos de otras\n",
    "ocupaciones, ingreso total individual, ingresos no laborales, ingreso total familiar, ingreso per cápita familiar). Elimine también las columnas adulto_equiv,\n",
    "ad_equiv_hogar e ingreso_necesario."
   ]
  },
  {
   "cell_type": "code",
   "execution_count": null,
   "id": "00662bdf",
   "metadata": {},
   "outputs": [],
   "source": [
    "respondieron.drop(['PP06C','PP06D','PP08D1','PP08D4','PP08F1','PP08F2','PP08J1','PP08J2','PP08J3','P21','TOT_P12','P47T','V2_M','V3_M','V4_M','V5_M','V8_M','V9_M','V10_M','V11_M','V12_M','V18_M','V19_AM','V21_M','T_VI','ITF','IPCF','adulto_equiv','ad_equiv_hogar','ingreso_necesario'], axis=1, inplace = True)\n",
    "\n",
    "norespondieron.drop(['PP06C','PP06D','PP08D1','PP08D4','PP08F1','PP08F2','PP08J1','PP08J2','PP08J3','P21','TOT_P12','P47T','V2_M','V3_M','V4_M','V5_M','V8_M','V9_M','V10_M','V11_M','V12_M','V18_M','V19_AM','V21_M','T_VI','ITF','IPCF','adulto_equiv','ad_equiv_hogar'], axis=1, inplace = True)"
   ]
  },
  {
   "cell_type": "markdown",
   "id": "b1396553",
   "metadata": {},
   "source": [
    "2. Partan la base respondieron en una base de prueba (test) y una de entrenamiento (train) utilizando el comando train_test_split. La base de entrenamiento debe comprender el 70% de los datos, y la semilla a utilizar (random\n",
    "state instance) debe ser 201. Establezca a pobre como su variable dependiente en la base de entrenamiento (vector y). El resto de las variables serán las\n",
    "variables independientes (matriz X). Recuerden agregar la columna de unos (1)."
   ]
  },
  {
   "cell_type": "markdown",
   "id": "c45dca54",
   "metadata": {},
   "source": [
    "En pos de elegir las variables que utilizaremos para predecir si una familia es pobre, lo primero que hicimos fue contar la cantidad de missing values de las posibles variables explicativas. Nuestro objetivo es utilizar como X variables con pocos o sin missing values, sino no podremos calibrar el modelo correctamente."
   ]
  },
  {
   "cell_type": "code",
   "execution_count": null,
   "id": "43e7db61",
   "metadata": {},
   "outputs": [],
   "source": [
    "missing_values = respondieron.isna().sum()\n",
    "missing_values_sorted = missing_values.sort_values(ascending=False)\n",
    "pd.set_option('display.max_rows', None)\n",
    "\n",
    "print(missing_values_sorted)"
   ]
  },
  {
   "cell_type": "code",
   "execution_count": null,
   "id": "ad4f87ef",
   "metadata": {},
   "outputs": [],
   "source": []
  },
  {
   "cell_type": "markdown",
   "id": "44dcc18a",
   "metadata": {},
   "source": [
    "Dentro del grupo de variables con pocos o sin missing values, elegimos aquellas que nos parecían más importantes y que contemplaban distintas dimensiones de las familias. Es importante notar que debemos evitar que existe multicolinealidad perfecta, por lo que es necesario elegir de forma óptima las variables explicativas y que no reporten la misma información entre ellas."
   ]
  },
  {
   "cell_type": "code",
   "execution_count": 1026,
   "id": "b61adcfe",
   "metadata": {},
   "outputs": [],
   "source": [
    "variables_to_keep = ['DECCFR','CH09','CH08','CH07','CH06','CH04','PP02I','AGLOMERADO','REGION','CAT_INAC','CAT_OCUP','ESTADO','NIVEL_ED','CH16']\n",
    "X = respondieron[variables_to_keep]\n",
    "X = sm.add_constant(X)"
   ]
  },
  {
   "cell_type": "code",
   "execution_count": 1027,
   "id": "627bbf4a",
   "metadata": {},
   "outputs": [],
   "source": [
    "y = respondieron[['pobre']]\n",
    "X_train, X_test, y_train, y_test = train_test_split(X, y, test_size=0.3, random_state=201)"
   ]
  },
  {
   "cell_type": "markdown",
   "id": "f069ab69",
   "metadata": {},
   "source": [
    "3. Implementen los siguientes métodos reportando luego la matriz de confusión, la curva ROC y los valores de AUC y de Accuracy de cada uno: * logit; * Análisis de discriminante lineal; * KNN con k = 3."
   ]
  },
  {
   "cell_type": "markdown",
   "id": "5c6723c0",
   "metadata": {},
   "source": [
    "### Método logit"
   ]
  },
  {
   "cell_type": "code",
   "execution_count": 1028,
   "id": "749ef6a8",
   "metadata": {
    "collapsed": true
   },
   "outputs": [
    {
     "name": "stdout",
     "output_type": "stream",
     "text": [
      "Optimization terminated successfully.\n",
      "         Current function value: 0.141214\n",
      "         Iterations 10\n",
      "                           Logit Regression Results                           \n",
      "==============================================================================\n",
      "Dep. Variable:                  pobre   No. Observations:                 2727\n",
      "Model:                          Logit   Df Residuals:                     2713\n",
      "Method:                           MLE   Df Model:                           13\n",
      "Date:                Wed, 25 Oct 2023   Pseudo R-squ.:                  0.7847\n",
      "Time:                        21:42:45   Log-Likelihood:                -385.09\n",
      "converged:                       True   LL-Null:                       -1788.3\n",
      "Covariance Type:            nonrobust   LLR p-value:                     0.000\n",
      "==============================================================================\n",
      "                 coef    std err          z      P>|z|      [0.025      0.975]\n",
      "------------------------------------------------------------------------------\n",
      "DECCFR        -2.5721      0.134    -19.175      0.000      -2.835      -2.309\n",
      "CH09          -0.3003      0.411     -0.730      0.465      -1.106       0.506\n",
      "CH08          -0.0758      0.064     -1.189      0.234      -0.201       0.049\n",
      "CH07           0.0778      0.072      1.080      0.280      -0.063       0.219\n",
      "CH06          -0.0212      0.007     -3.170      0.002      -0.034      -0.008\n",
      "CH04           0.5253      0.194      2.706      0.007       0.145       0.906\n",
      "PP02I          0.3229      0.180      1.796      0.072      -0.029       0.675\n",
      "AGLOMERADO    -0.2040      0.268     -0.762      0.446      -0.729       0.321\n",
      "REGION        16.4306      8.889      1.848      0.065      -0.992      33.853\n",
      "CAT_INAC      -0.0547      0.115     -0.474      0.635      -0.281       0.171\n",
      "CAT_OCUP       0.0188      0.220      0.086      0.932      -0.412       0.449\n",
      "ESTADO        -0.3957      0.271     -1.460      0.144      -0.927       0.135\n",
      "NIVEL_ED      -0.0801      0.070     -1.149      0.251      -0.217       0.057\n",
      "CH16           0.0278      0.110      0.253      0.801      -0.188       0.243\n",
      "==============================================================================\n",
      "\n",
      "Possibly complete quasi-separation: A fraction 0.30 of observations can be\n",
      "perfectly predicted. This might indicate that there is complete\n",
      "quasi-separation. In this case some parameters will not be identified.\n"
     ]
    }
   ],
   "source": [
    "logit_model = sm.Logit(y_train.astype(float), X_train.astype(float))\n",
    "\n",
    "result = logit_model.fit()\n",
    "\n",
    "print(result.summary())\n",
    "\n",
    "y_test_pred_score = result.predict(X_test)\n",
    "\n",
    "y_pred = np.where(y_test_pred_score > 0.5, 1, y_test_pred_score)\n",
    "y_pred = np.where(y_test_pred_score <= 0.5, 0, y_pred)"
   ]
  },
  {
   "cell_type": "code",
   "execution_count": 1029,
   "id": "970e5567",
   "metadata": {
    "collapsed": true
   },
   "outputs": [
    {
     "name": "stdout",
     "output_type": "stream",
     "text": [
      "LOGISTICAL REGRESSION\n",
      "\n",
      "Confusion Matrix:\n",
      "[[736  28]\n",
      " [ 23 382]]\n",
      "\n",
      "AUC: 0.9887\n"
     ]
    },
    {
     "data": {
      "image/png": "[encoded data removed]",
      "text/plain": [
       "<Figure size 640x480 with 1 Axes>"
      ]
     },
     "metadata": {},
     "output_type": "display_data"
    },
    {
     "name": "stdout",
     "output_type": "stream",
     "text": [
      "\n",
      "Accuracy Score: 0.9564\n"
     ]
    }
   ],
   "source": [
    "print('LOGISTICAL REGRESSION')\n",
    "matriz_confusion_logit = confusion_matrix(y_test, y_pred)\n",
    "print('\\nConfusion Matrix:')\n",
    "print(matriz_confusion_logit)\n",
    "\n",
    "auc_logit = roc_auc_score(y_test, y_test_pred_score)\n",
    "print('\\nAUC: %.4f' % auc_logit)\n",
    "\n",
    "fpr_logit, tpr_logit, thresholds_logit = roc_curve(y_test, y_test_pred_score)\n",
    "display = RocCurveDisplay(fpr=fpr_logit, tpr=tpr_logit, roc_auc=auc_logit, estimator_name='Reg_log')\n",
    "display.plot()  \n",
    "plt.plot([0, 1], [0, 1], color='red', linestyle='--')\n",
    "plt.show() \n",
    "\n",
    "accuracy_logit = accuracy_score(y_test, y_pred)\n",
    "\n",
    "print('\\nAccuracy Score: %.4f' %accuracy_logit)"
   ]
  },
  {
   "cell_type": "markdown",
   "id": "ccfabefe",
   "metadata": {},
   "source": [
    "### Método de análisis de discriminante lineal"
   ]
  },
  {
   "cell_type": "code",
   "execution_count": 1030,
   "id": "292e6666",
   "metadata": {},
   "outputs": [
    {
     "name": "stderr",
     "output_type": "stream",
     "text": [
      "C:\\Users\\julia\\anaconda3\\Lib\\site-packages\\sklearn\\utils\\validation.py:1184: DataConversionWarning: A column-vector y was passed when a 1d array was expected. Please change the shape of y to (n_samples, ), for example using ravel().\n",
      "  y = column_or_1d(y, warn=True)\n"
     ]
    }
   ],
   "source": [
    "lda = LinearDiscriminantAnalysis(n_components=1)\n",
    "lda = lda.fit(X_train, y_train)\n",
    "\n",
    "y_test_pred_lda = lda.predict(X_test)"
   ]
  },
  {
   "cell_type": "code",
   "execution_count": 1031,
   "id": "e3601a22",
   "metadata": {
    "collapsed": true
   },
   "outputs": [
    {
     "name": "stdout",
     "output_type": "stream",
     "text": [
      "ANÁLISIS DE DISCRIMINANTE LINEAL\n",
      "\n",
      "Confusion Matrix:\n",
      "[[702  62]\n",
      " [ 12 393]]\n",
      "\n",
      "AUC: 0.9446\n"
     ]
    },
    {
     "data": {
      "image/png": "[encoded data removed]",
      "text/plain": [
       "<Figure size 640x480 with 1 Axes>"
      ]
     },
     "metadata": {},
     "output_type": "display_data"
    },
    {
     "name": "stdout",
     "output_type": "stream",
     "text": [
      "\n",
      "Accuracy Score: 0.9367\n"
     ]
    }
   ],
   "source": [
    "print('ANÁLISIS DE DISCRIMINANTE LINEAL')\n",
    "matriz_confusion_lda = confusion_matrix(y_test, y_test_pred_lda)\n",
    "print('\\nConfusion Matrix:')\n",
    "print(matriz_confusion_lda)\n",
    "\n",
    "auc_lda = roc_auc_score(y_test, y_test_pred_lda)\n",
    "print('\\nAUC: %.4f' % auc_lda)\n",
    "\n",
    "fpr_lda, tpr_lda, thresholds_lda = roc_curve(y_test, y_test_pred_lda)\n",
    "display = RocCurveDisplay(fpr=fpr_lda, tpr=tpr_lda, roc_auc=auc_lda, estimator_name='Reg_log')\n",
    "display.plot()  \n",
    "plt.plot([0, 1], [0, 1], color='red', linestyle='--')\n",
    "plt.show() \n",
    "\n",
    "accuracy_lda = accuracy_score(y_test, y_test_pred_lda)\n",
    "\n",
    "print('\\nAccuracy Score: %.4f' %accuracy_lda)"
   ]
  },
  {
   "cell_type": "markdown",
   "id": "9f18c850",
   "metadata": {},
   "source": [
    "### Método de vecinos cercanos (KNN) "
   ]
  },
  {
   "cell_type": "code",
   "execution_count": 1032,
   "id": "28e14d16",
   "metadata": {
    "collapsed": true
   },
   "outputs": [
    {
     "name": "stderr",
     "output_type": "stream",
     "text": [
      "C:\\Users\\julia\\anaconda3\\Lib\\site-packages\\sklearn\\neighbors\\_classification.py:228: DataConversionWarning: A column-vector y was passed when a 1d array was expected. Please change the shape of y to (n_samples,), for example using ravel().\n",
      "  return self._fit(X, y)\n",
      "C:\\Users\\julia\\anaconda3\\Lib\\site-packages\\sklearn\\neighbors\\_classification.py:228: DataConversionWarning: A column-vector y was passed when a 1d array was expected. Please change the shape of y to (n_samples,), for example using ravel().\n",
      "  return self._fit(X, y)\n",
      "C:\\Users\\julia\\anaconda3\\Lib\\site-packages\\sklearn\\neighbors\\_classification.py:228: DataConversionWarning: A column-vector y was passed when a 1d array was expected. Please change the shape of y to (n_samples,), for example using ravel().\n",
      "  return self._fit(X, y)\n",
      "C:\\Users\\julia\\anaconda3\\Lib\\site-packages\\sklearn\\neighbors\\_classification.py:228: DataConversionWarning: A column-vector y was passed when a 1d array was expected. Please change the shape of y to (n_samples,), for example using ravel().\n",
      "  return self._fit(X, y)\n",
      "C:\\Users\\julia\\anaconda3\\Lib\\site-packages\\sklearn\\neighbors\\_classification.py:228: DataConversionWarning: A column-vector y was passed when a 1d array was expected. Please change the shape of y to (n_samples,), for example using ravel().\n",
      "  return self._fit(X, y)\n",
      "C:\\Users\\julia\\anaconda3\\Lib\\site-packages\\sklearn\\neighbors\\_classification.py:228: DataConversionWarning: A column-vector y was passed when a 1d array was expected. Please change the shape of y to (n_samples,), for example using ravel().\n",
      "  return self._fit(X, y)\n",
      "C:\\Users\\julia\\anaconda3\\Lib\\site-packages\\sklearn\\neighbors\\_classification.py:228: DataConversionWarning: A column-vector y was passed when a 1d array was expected. Please change the shape of y to (n_samples,), for example using ravel().\n",
      "  return self._fit(X, y)\n",
      "C:\\Users\\julia\\anaconda3\\Lib\\site-packages\\sklearn\\neighbors\\_classification.py:228: DataConversionWarning: A column-vector y was passed when a 1d array was expected. Please change the shape of y to (n_samples,), for example using ravel().\n",
      "  return self._fit(X, y)\n",
      "C:\\Users\\julia\\anaconda3\\Lib\\site-packages\\sklearn\\neighbors\\_classification.py:228: DataConversionWarning: A column-vector y was passed when a 1d array was expected. Please change the shape of y to (n_samples,), for example using ravel().\n",
      "  return self._fit(X, y)\n",
      "C:\\Users\\julia\\anaconda3\\Lib\\site-packages\\sklearn\\neighbors\\_classification.py:228: DataConversionWarning: A column-vector y was passed when a 1d array was expected. Please change the shape of y to (n_samples,), for example using ravel().\n",
      "  return self._fit(X, y)\n",
      "C:\\Users\\julia\\anaconda3\\Lib\\site-packages\\sklearn\\neighbors\\_classification.py:228: DataConversionWarning: A column-vector y was passed when a 1d array was expected. Please change the shape of y to (n_samples,), for example using ravel().\n",
      "  return self._fit(X, y)\n",
      "C:\\Users\\julia\\anaconda3\\Lib\\site-packages\\sklearn\\neighbors\\_classification.py:228: DataConversionWarning: A column-vector y was passed when a 1d array was expected. Please change the shape of y to (n_samples,), for example using ravel().\n",
      "  return self._fit(X, y)\n",
      "C:\\Users\\julia\\anaconda3\\Lib\\site-packages\\sklearn\\neighbors\\_classification.py:228: DataConversionWarning: A column-vector y was passed when a 1d array was expected. Please change the shape of y to (n_samples,), for example using ravel().\n",
      "  return self._fit(X, y)\n",
      "C:\\Users\\julia\\anaconda3\\Lib\\site-packages\\sklearn\\neighbors\\_classification.py:228: DataConversionWarning: A column-vector y was passed when a 1d array was expected. Please change the shape of y to (n_samples,), for example using ravel().\n",
      "  return self._fit(X, y)\n",
      "C:\\Users\\julia\\anaconda3\\Lib\\site-packages\\sklearn\\neighbors\\_classification.py:228: DataConversionWarning: A column-vector y was passed when a 1d array was expected. Please change the shape of y to (n_samples,), for example using ravel().\n",
      "  return self._fit(X, y)\n",
      "C:\\Users\\julia\\anaconda3\\Lib\\site-packages\\sklearn\\neighbors\\_classification.py:228: DataConversionWarning: A column-vector y was passed when a 1d array was expected. Please change the shape of y to (n_samples,), for example using ravel().\n",
      "  return self._fit(X, y)\n",
      "C:\\Users\\julia\\anaconda3\\Lib\\site-packages\\sklearn\\neighbors\\_classification.py:228: DataConversionWarning: A column-vector y was passed when a 1d array was expected. Please change the shape of y to (n_samples,), for example using ravel().\n",
      "  return self._fit(X, y)\n",
      "C:\\Users\\julia\\anaconda3\\Lib\\site-packages\\sklearn\\neighbors\\_classification.py:228: DataConversionWarning: A column-vector y was passed when a 1d array was expected. Please change the shape of y to (n_samples,), for example using ravel().\n",
      "  return self._fit(X, y)\n",
      "C:\\Users\\julia\\anaconda3\\Lib\\site-packages\\sklearn\\neighbors\\_classification.py:228: DataConversionWarning: A column-vector y was passed when a 1d array was expected. Please change the shape of y to (n_samples,), for example using ravel().\n",
      "  return self._fit(X, y)\n",
      "C:\\Users\\julia\\anaconda3\\Lib\\site-packages\\sklearn\\neighbors\\_classification.py:228: DataConversionWarning: A column-vector y was passed when a 1d array was expected. Please change the shape of y to (n_samples,), for example using ravel().\n",
      "  return self._fit(X, y)\n",
      "C:\\Users\\julia\\anaconda3\\Lib\\site-packages\\sklearn\\neighbors\\_classification.py:228: DataConversionWarning: A column-vector y was passed when a 1d array was expected. Please change the shape of y to (n_samples,), for example using ravel().\n",
      "  return self._fit(X, y)\n",
      "C:\\Users\\julia\\anaconda3\\Lib\\site-packages\\sklearn\\neighbors\\_classification.py:228: DataConversionWarning: A column-vector y was passed when a 1d array was expected. Please change the shape of y to (n_samples,), for example using ravel().\n",
      "  return self._fit(X, y)\n",
      "C:\\Users\\julia\\anaconda3\\Lib\\site-packages\\sklearn\\neighbors\\_classification.py:228: DataConversionWarning: A column-vector y was passed when a 1d array was expected. Please change the shape of y to (n_samples,), for example using ravel().\n",
      "  return self._fit(X, y)\n",
      "C:\\Users\\julia\\anaconda3\\Lib\\site-packages\\sklearn\\neighbors\\_classification.py:228: DataConversionWarning: A column-vector y was passed when a 1d array was expected. Please change the shape of y to (n_samples,), for example using ravel().\n",
      "  return self._fit(X, y)\n",
      "C:\\Users\\julia\\anaconda3\\Lib\\site-packages\\sklearn\\neighbors\\_classification.py:228: DataConversionWarning: A column-vector y was passed when a 1d array was expected. Please change the shape of y to (n_samples,), for example using ravel().\n",
      "  return self._fit(X, y)\n",
      "C:\\Users\\julia\\anaconda3\\Lib\\site-packages\\sklearn\\neighbors\\_classification.py:228: DataConversionWarning: A column-vector y was passed when a 1d array was expected. Please change the shape of y to (n_samples,), for example using ravel().\n",
      "  return self._fit(X, y)\n",
      "C:\\Users\\julia\\anaconda3\\Lib\\site-packages\\sklearn\\neighbors\\_classification.py:228: DataConversionWarning: A column-vector y was passed when a 1d array was expected. Please change the shape of y to (n_samples,), for example using ravel().\n",
      "  return self._fit(X, y)\n",
      "C:\\Users\\julia\\anaconda3\\Lib\\site-packages\\sklearn\\neighbors\\_classification.py:228: DataConversionWarning: A column-vector y was passed when a 1d array was expected. Please change the shape of y to (n_samples,), for example using ravel().\n",
      "  return self._fit(X, y)\n",
      "C:\\Users\\julia\\anaconda3\\Lib\\site-packages\\sklearn\\neighbors\\_classification.py:228: DataConversionWarning: A column-vector y was passed when a 1d array was expected. Please change the shape of y to (n_samples,), for example using ravel().\n",
      "  return self._fit(X, y)\n",
      "C:\\Users\\julia\\anaconda3\\Lib\\site-packages\\sklearn\\neighbors\\_classification.py:228: DataConversionWarning: A column-vector y was passed when a 1d array was expected. Please change the shape of y to (n_samples,), for example using ravel().\n",
      "  return self._fit(X, y)\n",
      "C:\\Users\\julia\\anaconda3\\Lib\\site-packages\\sklearn\\neighbors\\_classification.py:228: DataConversionWarning: A column-vector y was passed when a 1d array was expected. Please change the shape of y to (n_samples,), for example using ravel().\n",
      "  return self._fit(X, y)\n",
      "C:\\Users\\julia\\anaconda3\\Lib\\site-packages\\sklearn\\neighbors\\_classification.py:228: DataConversionWarning: A column-vector y was passed when a 1d array was expected. Please change the shape of y to (n_samples,), for example using ravel().\n",
      "  return self._fit(X, y)\n"
     ]
    },
    {
     "name": "stderr",
     "output_type": "stream",
     "text": [
      "C:\\Users\\julia\\anaconda3\\Lib\\site-packages\\sklearn\\neighbors\\_classification.py:228: DataConversionWarning: A column-vector y was passed when a 1d array was expected. Please change the shape of y to (n_samples,), for example using ravel().\n",
      "  return self._fit(X, y)\n",
      "C:\\Users\\julia\\anaconda3\\Lib\\site-packages\\sklearn\\neighbors\\_classification.py:228: DataConversionWarning: A column-vector y was passed when a 1d array was expected. Please change the shape of y to (n_samples,), for example using ravel().\n",
      "  return self._fit(X, y)\n",
      "C:\\Users\\julia\\anaconda3\\Lib\\site-packages\\sklearn\\neighbors\\_classification.py:228: DataConversionWarning: A column-vector y was passed when a 1d array was expected. Please change the shape of y to (n_samples,), for example using ravel().\n",
      "  return self._fit(X, y)\n",
      "C:\\Users\\julia\\anaconda3\\Lib\\site-packages\\sklearn\\neighbors\\_classification.py:228: DataConversionWarning: A column-vector y was passed when a 1d array was expected. Please change the shape of y to (n_samples,), for example using ravel().\n",
      "  return self._fit(X, y)\n",
      "C:\\Users\\julia\\anaconda3\\Lib\\site-packages\\sklearn\\neighbors\\_classification.py:228: DataConversionWarning: A column-vector y was passed when a 1d array was expected. Please change the shape of y to (n_samples,), for example using ravel().\n",
      "  return self._fit(X, y)\n",
      "C:\\Users\\julia\\anaconda3\\Lib\\site-packages\\sklearn\\neighbors\\_classification.py:228: DataConversionWarning: A column-vector y was passed when a 1d array was expected. Please change the shape of y to (n_samples,), for example using ravel().\n",
      "  return self._fit(X, y)\n",
      "C:\\Users\\julia\\anaconda3\\Lib\\site-packages\\sklearn\\neighbors\\_classification.py:228: DataConversionWarning: A column-vector y was passed when a 1d array was expected. Please change the shape of y to (n_samples,), for example using ravel().\n",
      "  return self._fit(X, y)\n",
      "C:\\Users\\julia\\anaconda3\\Lib\\site-packages\\sklearn\\neighbors\\_classification.py:228: DataConversionWarning: A column-vector y was passed when a 1d array was expected. Please change the shape of y to (n_samples,), for example using ravel().\n",
      "  return self._fit(X, y)\n",
      "C:\\Users\\julia\\anaconda3\\Lib\\site-packages\\sklearn\\neighbors\\_classification.py:228: DataConversionWarning: A column-vector y was passed when a 1d array was expected. Please change the shape of y to (n_samples,), for example using ravel().\n",
      "  return self._fit(X, y)\n",
      "C:\\Users\\julia\\anaconda3\\Lib\\site-packages\\sklearn\\neighbors\\_classification.py:228: DataConversionWarning: A column-vector y was passed when a 1d array was expected. Please change the shape of y to (n_samples,), for example using ravel().\n",
      "  return self._fit(X, y)\n",
      "C:\\Users\\julia\\anaconda3\\Lib\\site-packages\\sklearn\\neighbors\\_classification.py:228: DataConversionWarning: A column-vector y was passed when a 1d array was expected. Please change the shape of y to (n_samples,), for example using ravel().\n",
      "  return self._fit(X, y)\n",
      "C:\\Users\\julia\\anaconda3\\Lib\\site-packages\\sklearn\\neighbors\\_classification.py:228: DataConversionWarning: A column-vector y was passed when a 1d array was expected. Please change the shape of y to (n_samples,), for example using ravel().\n",
      "  return self._fit(X, y)\n",
      "C:\\Users\\julia\\anaconda3\\Lib\\site-packages\\sklearn\\neighbors\\_classification.py:228: DataConversionWarning: A column-vector y was passed when a 1d array was expected. Please change the shape of y to (n_samples,), for example using ravel().\n",
      "  return self._fit(X, y)\n",
      "C:\\Users\\julia\\anaconda3\\Lib\\site-packages\\sklearn\\neighbors\\_classification.py:228: DataConversionWarning: A column-vector y was passed when a 1d array was expected. Please change the shape of y to (n_samples,), for example using ravel().\n",
      "  return self._fit(X, y)\n",
      "C:\\Users\\julia\\anaconda3\\Lib\\site-packages\\sklearn\\neighbors\\_classification.py:228: DataConversionWarning: A column-vector y was passed when a 1d array was expected. Please change the shape of y to (n_samples,), for example using ravel().\n",
      "  return self._fit(X, y)\n",
      "C:\\Users\\julia\\anaconda3\\Lib\\site-packages\\sklearn\\neighbors\\_classification.py:228: DataConversionWarning: A column-vector y was passed when a 1d array was expected. Please change the shape of y to (n_samples,), for example using ravel().\n",
      "  return self._fit(X, y)\n",
      "C:\\Users\\julia\\anaconda3\\Lib\\site-packages\\sklearn\\neighbors\\_classification.py:228: DataConversionWarning: A column-vector y was passed when a 1d array was expected. Please change the shape of y to (n_samples,), for example using ravel().\n",
      "  return self._fit(X, y)\n"
     ]
    }
   ],
   "source": [
    "from sklearn.neighbors import KNeighborsClassifier\n",
    "k_range = range(1,50)\n",
    "scores = {}\n",
    "scores_list = []\n",
    "for k in k_range:\n",
    "        knn = KNeighborsClassifier(n_neighbors=k)\n",
    "        knn.fit(X_train, y_train)\n",
    "        y_pred_knn = knn.predict(X_test)\n",
    "        scores[k] = accuracy_score(y_test, y_pred_knn)\n",
    "        scores_list.append(accuracy_score(y_test, y_pred_knn))"
   ]
  },
  {
   "cell_type": "code",
   "execution_count": 1001,
   "id": "4eb1e12e",
   "metadata": {},
   "outputs": [
    {
     "name": "stdout",
     "output_type": "stream",
     "text": [
      "K que maximiza el accuracy: 5\n"
     ]
    }
   ],
   "source": [
    "print('K que maximiza el accuracy:', list(scores.keys())[list(scores.values()).index(max(scores.values()))])"
   ]
  },
  {
   "cell_type": "code",
   "execution_count": 1002,
   "id": "9884f309",
   "metadata": {
    "collapsed": true
   },
   "outputs": [
    {
     "data": {
      "text/plain": [
       "Text(0, 0.5, 'Testing Accuracy')"
      ]
     },
     "execution_count": 1002,
     "metadata": {},
     "output_type": "execute_result"
    },
    {
     "data": {
      "image/png": "[encoded data removed]",
      "text/plain": [
       "<Figure size 640x480 with 1 Axes>"
      ]
     },
     "metadata": {},
     "output_type": "display_data"
    }
   ],
   "source": [
    "plt.plot(k_range, scores_list)\n",
    "plt.xlabel('Value of K for KNN')\n",
    "plt.ylabel('Testing Accuracy')"
   ]
  },
  {
   "cell_type": "code",
   "execution_count": 1005,
   "id": "ecdf877c",
   "metadata": {
    "collapsed": true
   },
   "outputs": [
    {
     "name": "stderr",
     "output_type": "stream",
     "text": [
      "C:\\Users\\julia\\anaconda3\\Lib\\site-packages\\sklearn\\neighbors\\_classification.py:228: DataConversionWarning: A column-vector y was passed when a 1d array was expected. Please change the shape of y to (n_samples,), for example using ravel().\n",
      "  return self._fit(X, y)\n"
     ]
    }
   ],
   "source": [
    "knn = KNeighborsClassifier(n_neighbors=5)\n",
    "knn.fit(X_train, y_train)\n",
    "y_test_pred_knn = knn.predict(X_test)"
   ]
  },
  {
   "cell_type": "code",
   "execution_count": 1033,
   "id": "efd8c35d",
   "metadata": {
    "collapsed": true
   },
   "outputs": [
    {
     "name": "stdout",
     "output_type": "stream",
     "text": [
      "VECINOS CERCANOS (KNN)\n",
      "\n",
      "Confusion Matrix:\n",
      "[[723  41]\n",
      " [ 37 368]]\n",
      "\n",
      "AUC: 0.9275\n"
     ]
    },
    {
     "data": {
      "image/png": "[encoded data removed]",
      "text/plain": [
       "<Figure size 640x480 with 1 Axes>"
      ]
     },
     "metadata": {},
     "output_type": "display_data"
    },
    {
     "name": "stdout",
     "output_type": "stream",
     "text": [
      "\n",
      "Accuracy Score: 0.9333\n"
     ]
    }
   ],
   "source": [
    "print('VECINOS CERCANOS (KNN)')\n",
    "matriz_confusion_knn = confusion_matrix(y_test, y_test_pred_knn)\n",
    "print('\\nConfusion Matrix:')\n",
    "print(matriz_confusion_knn)\n",
    "\n",
    "auc_knn = roc_auc_score(y_test, y_test_pred_knn)\n",
    "print('\\nAUC: %.4f' % auc_knn)\n",
    "\n",
    "fpr_knn, tpr_knn, thresholds_knn = roc_curve(y_test, y_test_pred_knn)\n",
    "display = RocCurveDisplay(fpr=fpr_knn, tpr=tpr_knn, roc_auc=auc_knn, estimator_name='Reg_log')\n",
    "display.plot()  \n",
    "plt.plot([0, 1], [0, 1], color='red', linestyle='--')\n",
    "plt.show() \n",
    "\n",
    "accuracy_knn = accuracy_score(y_test, y_test_pred_knn)\n",
    "\n",
    "print('\\nAccuracy Score: %.4f' %accuracy_knn)"
   ]
  },
  {
   "cell_type": "markdown",
   "id": "e925171c",
   "metadata": {},
   "source": [
    "4. ¿Cuál de los tres métodos predice mejor? Justifiquen detalladamente utilizando las medidas de precisión que conocen."
   ]
  },
  {
   "cell_type": "markdown",
   "id": "56214c07",
   "metadata": {},
   "source": [
    "Para los 3 métodos utilizamos dos medidas de precisión distintas: el área bajo la curva ROC (AUC) y el accuracy del modelo.\n",
    "\n",
    "La curva ROC grafica la relación entre la tasa de verdaderos positivos (eje y) y la tasa de falsos positivos (eje x). Consecuentemente, cuanto más se acerque la curva al punto (0,1), mayor será la probabilidad de que el método clasifique correctamente los valores positivos y menor la probabilidad de que los clasifique de forma incorrecta. La medida AUC permite contabilizar estas probabilidades y establece un índice de 0 a 1, en la que los mejores clasificadores tenderán a acercarse a 1.\n",
    "\n",
    "Por su parte, la medida de accuracy o exactitud suma todos los verdaderos positivos y verdaderos negativos, y los divide por el total de positivos y negativos. Accuracy mide la fracción de predicciones que el modelo realizó correctamente. Al igual que AUC, es un índice de 0 a 1, en la que los métodos con más exactitud obtienen una calificación más cercana a 1.\n",
    "\n",
    "Analizando los resultaods, observamos que la regresión logit puntúa mejor que los otros dos métodos en ambas medidas de precisión. En otras palabras, este método tiene una mayor probabilidad de acierto de la predicción de la pobreza (AUC) y tiene una mayor fracción de predicciones correctas (accuracy). En segundo lugar viene el modelo de análisis de discriminante lineal, cuyos AUC y accuracy son menores que los del método logit pero mayores que los del modelo de vecinos cercanos (KNN)."
   ]
  },
  {
   "cell_type": "markdown",
   "id": "e2180cfb",
   "metadata": {},
   "source": [
    "5. Con el método que seleccionaron, predigan qué personas son pobres dentro de la base norespondieron. ¿Qué proporción de las personas que no respondieron pudieron identificar como pobres?"
   ]
  },
  {
   "cell_type": "markdown",
   "id": "4230a490",
   "metadata": {},
   "source": [
    "En el siguiente cuadro de código indicamos qué cantidad y proporción de las personas que no respondieron fueron identificadas como pobres tanto en la base respondieron como en la norespondieron. La idea detrás de esto es poder comparar entre aquellas personas que sí accedieron a dar el dato de sus ingresos y las que no. Tal como observamos, si bien pueden existir errores de predicción (aunque nuestro modelo prediga 35.07 % de pobres en la base respondieron y el valor real es 35.88 %), el porcentaje de personas pobres en la base norespondieron es mucho menor. Esto va en línea con la idea de que las personas que ganan más tienden a subreportar, o directamente no reportar, sus ingresos."
   ]
  },
  {
   "cell_type": "code",
   "execution_count": 1034,
   "id": "723f5c4b",
   "metadata": {},
   "outputs": [
    {
     "name": "stdout",
     "output_type": "stream",
     "text": [
      "Total de personas identificadas como pobres de la base norespondieron: 24\n",
      "Total de personas identificadas como pobres de la base respondieron: 410\n",
      "Porcentaje de personas identificadas como pobres de la base norespondieron: 1.59 %\n",
      "Porcentaje de personas identificadas como pobres de la base norespondieron: 35.07 %\n"
     ]
    }
   ],
   "source": [
    "X_np = norespondieron[variables_to_keep]\n",
    "X_np = sm.add_constant(X_np)\n",
    "\n",
    "y_pred_score_np = result.predict(X_np)\n",
    "\n",
    "y_pred_np = np.where(y_pred_score_np > 0.5, 1, y_pred_score_np)\n",
    "y_pred_np = np.where(y_pred_score_np <= 0.5, 0, y_pred_np)\n",
    "\n",
    "print('Total de personas identificadas como pobres de la base norespondieron: %.0f' %np.sum(y_pred_np))\n",
    "print('Total de personas identificadas como pobres de la base respondieron: %.0f' %np.sum(y_pred))\n",
    "\n",
    "print('Porcentaje de personas identificadas como pobres de la base norespondieron: %.2f' %(np.mean(y_pred_np)*100) + ' %')\n",
    "print('Porcentaje de personas identificadas como pobres de la base respondieron: %.2f' %(np.mean(y_pred)*100) + ' %')"
   ]
  },
  {
   "cell_type": "markdown",
   "id": "95842525",
   "metadata": {},
   "source": [
    "6. Noten que para correr los tres métodos se utilizaron todas las variables disponibles como predictores. ¿Les parece esto correcto? ¿Qué variables habrían conservado? Con las variables seleccionadas, implementen únicamente el modelo logit nuevamente y comparen las medidas de precisión obtenidas con los resultados del modelo logit anterior. ¿Cambió mucho la precisión? "
   ]
  },
  {
   "cell_type": "markdown",
   "id": "3e4928af",
   "metadata": {},
   "source": [
    "Con respecto a si nos parece correcto, creemos que lo mejor es siempre poder disponer de todas las variables que se puedan a la hora realizar las predicciones y luego ir definiendo cuáles son las mejores para utilizar. Por lo tanto, para responder esta pregunta es importante siempre analizar la situación y el contexto de lo que estamos prediciendo.\n",
    "\n",
    "Naturalmente, si realizamos un análisis como el de este trabajo, es porque no contamos con los datos de los ingresos. Si tuviéramos esos datos, incorporarlos a la calibración del modelo puede ser útil según el contexto. Si contamos con los datos de la canasta que nos permiten crear la línea de pobreza, como sucede en la EPH, no sería necesario ningún modelo, ya que con observar los ingresos y tener la CBT podemos determinar quién es pobre y quién no. Sin embargo, si los datos de la canasta faltaran, por ejemplo, utilizar los datos de ingresos puede ser muy útil para identificar a las personas en situación de pobreza.\n",
    "\n",
    "Contando con la disponibilidad de variables de salarios, decidimos incluir solo dos: el monto del ingreso total familiar (ITF) y el monto del ingreso per cápita familiar (IPCF). La idea detrás de esto es que estas dos variables agrupan la información de muchas otras variables de ingreso. Junto a estos datos de las personas también incluimos el mismo vector de variables explicativas que previamente utilizamos."
   ]
  },
  {
   "cell_type": "code",
   "execution_count": 1035,
   "id": "f0118346",
   "metadata": {
    "collapsed": true
   },
   "outputs": [
    {
     "name": "stdout",
     "output_type": "stream",
     "text": [
      "Optimization terminated successfully.\n",
      "         Current function value: 0.133689\n",
      "         Iterations 13\n",
      "                           Logit Regression Results                           \n",
      "==============================================================================\n",
      "Dep. Variable:                  pobre   No. Observations:                 2727\n",
      "Model:                          Logit   Df Residuals:                     2713\n",
      "Method:                           MLE   Df Model:                           13\n",
      "Date:                Wed, 25 Oct 2023   Pseudo R-squ.:                  0.7847\n",
      "Time:                        21:43:09   Log-Likelihood:                -385.09\n",
      "converged:                       True   LL-Null:                       -1788.3\n",
      "Covariance Type:            nonrobust   LLR p-value:                     0.000\n",
      "==============================================================================\n",
      "                 coef    std err          z      P>|z|      [0.025      0.975]\n",
      "------------------------------------------------------------------------------\n",
      "DECCFR        -2.5721      0.134    -19.175      0.000      -2.835      -2.309\n",
      "CH09          -0.3003      0.411     -0.730      0.465      -1.106       0.506\n",
      "CH08          -0.0758      0.064     -1.189      0.234      -0.201       0.049\n",
      "CH07           0.0778      0.072      1.080      0.280      -0.063       0.219\n",
      "CH06          -0.0212      0.007     -3.170      0.002      -0.034      -0.008\n",
      "CH04           0.5253      0.194      2.706      0.007       0.145       0.906\n",
      "PP02I          0.3229      0.180      1.796      0.072      -0.029       0.675\n",
      "AGLOMERADO    -0.2040      0.268     -0.762      0.446      -0.729       0.321\n",
      "REGION        16.4306      8.889      1.848      0.065      -0.992      33.853\n",
      "CAT_INAC      -0.0547      0.115     -0.474      0.635      -0.281       0.171\n",
      "CAT_OCUP       0.0188      0.220      0.086      0.932      -0.412       0.449\n",
      "ESTADO        -0.3957      0.271     -1.460      0.144      -0.927       0.135\n",
      "NIVEL_ED      -0.0801      0.070     -1.149      0.251      -0.217       0.057\n",
      "CH16           0.0278      0.110      0.253      0.801      -0.188       0.243\n",
      "==============================================================================\n",
      "\n",
      "Possibly complete quasi-separation: A fraction 0.30 of observations can be\n",
      "perfectly predicted. This might indicate that there is complete\n",
      "quasi-separation. In this case some parameters will not be identified.\n"
     ]
    }
   ],
   "source": [
    "respondieron = df[df['ITF'] != 0].copy()\n",
    "norespondieron = df[df['ITF'] == 0].copy()\n",
    "\n",
    "respondieron['ingreso_necesario'] = respondieron['ad_equiv_hogar']*57371.05\n",
    "respondieron['pobre'] = (respondieron['ITF'] < respondieron['ingreso_necesario']).astype(int)\n",
    "\n",
    "new_variables_to_keep = ['ITF','IPCF','DECCFR','CH09','CH08','CH07','CH06','CH04','PP02I','AGLOMERADO','REGION','CAT_INAC','CAT_OCUP','ESTADO','NIVEL_ED','CH16']\n",
    "new_X = respondieron[new_variables_to_keep]\n",
    "new_X = sm.add_constant(new_X)\n",
    "\n",
    "new_y = respondieron[['pobre']]\n",
    "new_X_train, new_X_test, new_y_train, new_y_test = train_test_split(new_X, new_y, test_size=0.3, random_state=201)\n",
    "\n",
    "new_logit_model = sm.Logit(new_y_train.astype(float), new_X_train.astype(float))\n",
    "\n",
    "new_result = new_logit_model.fit()\n",
    "\n",
    "print(result.summary())\n",
    "\n",
    "new_y_test_pred_score = new_result.predict(new_X_test)\n",
    "\n",
    "new_y_pred = np.where(new_y_test_pred_score > 0.5, 1, new_y_test_pred_score)\n",
    "new_y_pred = np.where(new_y_test_pred_score <= 0.5, 0, new_y_pred)"
   ]
  },
  {
   "cell_type": "code",
   "execution_count": 1036,
   "id": "4af73b44",
   "metadata": {
    "collapsed": true
   },
   "outputs": [
    {
     "name": "stdout",
     "output_type": "stream",
     "text": [
      "NEW LOGISTICAL REGRESSION\n",
      "\n",
      "Confusion Matrix:\n",
      "[[741  23]\n",
      " [ 21 384]]\n",
      "\n",
      "AUC: 0.9887\n"
     ]
    },
    {
     "data": {
      "image/png": "[encoded data removed]",
      "text/plain": [
       "<Figure size 640x480 with 1 Axes>"
      ]
     },
     "metadata": {},
     "output_type": "display_data"
    },
    {
     "name": "stdout",
     "output_type": "stream",
     "text": [
      "\n",
      "Accuracy Score: 0.9624\n"
     ]
    }
   ],
   "source": [
    "print('NEW LOGISTICAL REGRESSION')\n",
    "new_matriz_confusion_logit = confusion_matrix(new_y_test, new_y_pred)\n",
    "print('\\nConfusion Matrix:')\n",
    "print(new_matriz_confusion_logit)\n",
    "\n",
    "new_auc_logit = roc_auc_score(new_y_test, new_y_test_pred_score)\n",
    "print('\\nAUC: %.4f' % auc_logit)\n",
    "\n",
    "new_fpr_logit, new_tpr_logit, new_thresholds_logit = roc_curve(new_y_test, new_y_test_pred_score)\n",
    "new_display = RocCurveDisplay(fpr=new_fpr_logit, tpr=new_tpr_logit, roc_auc=new_auc_logit, estimator_name='Reg_log')\n",
    "new_display.plot()  \n",
    "plt.plot([0, 1], [0, 1], color='red', linestyle='--')\n",
    "plt.show() \n",
    "\n",
    "new_accuracy_logit = accuracy_score(new_y_test, new_y_pred)\n",
    "\n",
    "print('\\nAccuracy Score: %.4f' %new_accuracy_logit)"
   ]
  },
  {
   "cell_type": "markdown",
   "id": "ae304253",
   "metadata": {},
   "source": [
    "La nueva regresión logística arroja un AUC y Accuracy Score mayor a los de los tres modelos previamente calibrados. Por lo tanto, es posible afirmar que contar con los datos de los ingresos familiares totales y los ingresos per cápita podemos disponer de un modelo más preciso."
   ]
  }
 ],
 "metadata": {
  "kernelspec": {
   "display_name": "Python 3 (ipykernel)",
   "language": "python",
   "name": "python3"
  },
  "language_info": {
   "codemirror_mode": {
    "name": "ipython",
    "version": 3
   },
   "file_extension": ".py",
   "mimetype": "text/x-python",
   "name": "python",
   "nbconvert_exporter": "python",
   "pygments_lexer": "ipython3",
   "version": "3.11.4"
  }
 },
 "nbformat": 4,
 "nbformat_minor": 5
}
